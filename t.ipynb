{
 "cells": [
  {
   "cell_type": "code",
   "execution_count": 12,
   "id": "43698e00-7ba0-4266-b648-517bc337228d",
   "metadata": {},
   "outputs": [],
   "source": [
    "import math\n",
    "\n",
    "def entropy(ls):\n",
    "    total = sum(ls)\n",
    "    return -sum([x/total * math.log(x/total, 2) for x in ls])\n",
    "\n"
   ]
  },
  {
   "cell_type": "code",
   "execution_count": 6,
   "id": "81f57baf-2e97-4284-8d6e-d409e0ce8e8d",
   "metadata": {},
   "outputs": [
    {
     "data": {
      "text/plain": [
       "1.584962500721156"
      ]
     },
     "execution_count": 6,
     "metadata": {},
     "output_type": "execute_result"
    }
   ],
   "source": [
    "parent = entropy([7, 7, 7])\n",
    "parent"
   ]
  },
  {
   "cell_type": "code",
   "execution_count": 15,
   "id": "5ca8aee0-78b4-4ddd-8512-0dba738d4621",
   "metadata": {},
   "outputs": [
    {
     "data": {
      "text/plain": [
       "0.10674166286600784"
      ]
     },
     "execution_count": 15,
     "metadata": {},
     "output_type": "execute_result"
    }
   ],
   "source": [
    "def info_gain(c1, c2):\n",
    "    if sum(c1) + sum(c2) != 21:\n",
    "        raise Exception(\"something wrong\")\n",
    "    \n",
    "    avg = sum(c1)/21 * entropy(c1) + sum(c2)/21 * entropy(c2)\n",
    "    return parent - avg\n",
    "    \n",
    "# x1 > 1 \n",
    "info_gain([2, 1], [5, 6, 7])"
   ]
  },
  {
   "cell_type": "code",
   "execution_count": 17,
   "id": "bd09278e-5876-443b-b0cd-78715d0d7854",
   "metadata": {},
   "outputs": [
    {
     "data": {
      "text/plain": [
       "0.3428821216767355"
      ]
     },
     "execution_count": 17,
     "metadata": {},
     "output_type": "execute_result"
    }
   ],
   "source": [
    "# x1 > 2\n",
    "info_gain([5, 2], [2, 5, 7])"
   ]
  },
  {
   "cell_type": "code",
   "execution_count": 18,
   "id": "551d6a7c-e536-40e1-acaf-93fae9f4bd9e",
   "metadata": {},
   "outputs": [
    {
     "data": {
      "text/plain": [
       "0.36911190116729076"
      ]
     },
     "execution_count": 18,
     "metadata": {},
     "output_type": "execute_result"
    }
   ],
   "source": [
    "# x1 > 3\n",
    "info_gain([5, 4], [2, 3, 7])"
   ]
  },
  {
   "cell_type": "code",
   "execution_count": 19,
   "id": "9589fb0a-ac38-449f-bb9c-0306af166f31",
   "metadata": {},
   "outputs": [
    {
     "data": {
      "text/plain": [
       "0.2755057748608438"
      ]
     },
     "execution_count": 19,
     "metadata": {},
     "output_type": "execute_result"
    }
   ],
   "source": [
    "# x1 > 4\n",
    "info_gain([6, 4, 1], [1, 3, 6])"
   ]
  },
  {
   "cell_type": "code",
   "execution_count": 20,
   "id": "6cbae4ab-9d8b-4d37-a657-3c9da52d010c",
   "metadata": {},
   "outputs": [
    {
     "data": {
      "text/plain": [
       "0.10674166286600739"
      ]
     },
     "execution_count": 20,
     "metadata": {},
     "output_type": "execute_result"
    }
   ],
   "source": [
    "# x1 > 5\n",
    "info_gain([7, 6, 5], [1, 2])"
   ]
  },
  {
   "cell_type": "code",
   "execution_count": 21,
   "id": "5f7639ee-95e9-4484-9c50-09c8ebdbb220",
   "metadata": {},
   "outputs": [
    {
     "data": {
      "text/plain": [
       "0.07897116812049654"
      ]
     },
     "execution_count": 21,
     "metadata": {},
     "output_type": "execute_result"
    }
   ],
   "source": [
    "# x2 > 1\n",
    "info_gain([1], [6, 7, 7])"
   ]
  },
  {
   "cell_type": "code",
   "execution_count": 22,
   "id": "db5a51ae-fa37-49af-abbf-59e00af0d486",
   "metadata": {},
   "outputs": [
    {
     "data": {
      "text/plain": [
       "0.5041514963786067"
      ]
     },
     "execution_count": 22,
     "metadata": {},
     "output_type": "execute_result"
    }
   ],
   "source": [
    "# x2 > 2 \n",
    "info_gain([5], [2, 7, 7])"
   ]
  },
  {
   "cell_type": "code",
   "execution_count": 23,
   "id": "694dbb48-8326-410a-a670-1387e74f6c14",
   "metadata": {},
   "outputs": [
    {
     "data": {
      "text/plain": [
       "0.3030727607904895"
      ]
     },
     "execution_count": 23,
     "metadata": {},
     "output_type": "execute_result"
    }
   ],
   "source": [
    "# x2 > 3\n",
    "info_gain([6, 2, 1], [1, 5, 6])"
   ]
  },
  {
   "cell_type": "code",
   "execution_count": 24,
   "id": "24316e76-c2e1-4b96-8ce6-a34751f73064",
   "metadata": {},
   "outputs": [
    {
     "data": {
      "text/plain": [
       "0.4737807672608123"
      ]
     },
     "execution_count": 24,
     "metadata": {},
     "output_type": "execute_result"
    }
   ],
   "source": [
    "# x2 > 4\n",
    "info_gain([7, 5, 1], [2, 6])"
   ]
  },
  {
   "cell_type": "code",
   "execution_count": 25,
   "id": "0dd34cc6-eb89-48e5-93c2-de53fc047146",
   "metadata": {},
   "outputs": [
    {
     "data": {
      "text/plain": [
       "0.10674166286600784"
      ]
     },
     "execution_count": 25,
     "metadata": {},
     "output_type": "execute_result"
    }
   ],
   "source": [
    "# x2 > 5\n",
    "info_gain([1, 2], [6, 5, 7])"
   ]
  },
  {
   "cell_type": "code",
   "execution_count": 16,
   "id": "8656801a-6804-43cb-b9a2-8128704b130c",
   "metadata": {},
   "outputs": [
    {
     "data": {
      "text/plain": [
       "0.016666666666666666"
      ]
     },
     "execution_count": 16,
     "metadata": {},
     "output_type": "execute_result"
    }
   ],
   "source": [
    "1/4 * 2/4 * 2/4 * 4/15"
   ]
  },
  {
   "cell_type": "code",
   "execution_count": 13,
   "id": "d892097e-e7d4-4c9e-af7b-d9da81cc3fe4",
   "metadata": {},
   "outputs": [
    {
     "data": {
      "text/plain": [
       "0.0"
      ]
     },
     "execution_count": 13,
     "metadata": {},
     "output_type": "execute_result"
    }
   ],
   "source": [
    "3/5 * 0/5 * 2/5 * 5/15"
   ]
  },
  {
   "cell_type": "code",
   "execution_count": 18,
   "id": "4897c94f-bbcd-47b2-ad26-12095acc536d",
   "metadata": {},
   "outputs": [
    {
     "data": {
      "text/plain": [
       "0.00925925925925926"
      ]
     },
     "execution_count": 18,
     "metadata": {},
     "output_type": "execute_result"
    }
   ],
   "source": [
    "5/6 * 1/6 * 1/6 * 6/15"
   ]
  },
  {
   "cell_type": "code",
   "execution_count": null,
   "id": "225e1afd-41ef-4936-8626-080d5b9c9b83",
   "metadata": {},
   "outputs": [],
   "source": []
  }
 ],
 "metadata": {
  "kernelspec": {
   "display_name": "Python 3 (ipykernel)",
   "language": "python",
   "name": "python3"
  },
  "language_info": {
   "codemirror_mode": {
    "name": "ipython",
    "version": 3
   },
   "file_extension": ".py",
   "mimetype": "text/x-python",
   "name": "python",
   "nbconvert_exporter": "python",
   "pygments_lexer": "ipython3",
   "version": "3.10.8"
  }
 },
 "nbformat": 4,
 "nbformat_minor": 5
}
