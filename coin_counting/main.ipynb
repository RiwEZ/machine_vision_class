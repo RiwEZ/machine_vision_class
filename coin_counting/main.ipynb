{
 "cells": [
  {
   "cell_type": "code",
   "execution_count": 49,
   "id": "31b0057b-13ce-4e60-843d-141b6cd6d010",
   "metadata": {},
   "outputs": [],
   "source": [
    "import cv2\n",
    "import numpy as np\n",
    "\n",
    "def rescale_image(image, target_width):\n",
    "    height, width = image.shape[:2]\n",
    "    scale_factor = target_width / width\n",
    "    new_width = int(width * scale_factor)\n",
    "    new_height = int(height * scale_factor)\n",
    "    resized_image = cv2.resize(image, (new_width, new_height))\n",
    "    return resized_image\n",
    "\n",
    "def convert_hue(hue):\n",
    "    return cv2.applyColorMap((hue*(255/179)).astype('uint8'), cv2.COLORMAP_HSV)\n",
    "\n",
    "def count_circles(im):\n",
    "    im = cv2.cvtColor(im, cv2.COLOR_BGR2GRAY)\n",
    "    # custom params\n",
    "    circles = cv2.HoughCircles(im ,cv2.HOUGH_GRADIENT, 1, 50, param1=100,param2=20,minRadius=10, maxRadius=50)\n",
    "    result = 0\n",
    "    if circles is not None:\n",
    "        circles = np.uint16(np.around(circles))\n",
    "        result = len(circles[0,:])\n",
    "\n",
    "        \"\"\"\n",
    "        for i in circles[0,:]:\n",
    "            cv2.circle(im ,(i[0],i[1]),i[2],(0,255,0),2)\n",
    "        \"\"\"\n",
    "            \n",
    "    return result\n",
    "    \n",
    "\n",
    "def count_coins(img):\n",
    "    img = rescale_image(img, 640)\n",
    "    img_hsv = cv2.cvtColor(img, cv2.COLOR_BGR2HSV)\n",
    "    \n",
    "    mask_yellow = cv2.inRange(img_hsv, (20, 100, 0), (50, 255, 255))\n",
    "    mask_yellow = cv2.medianBlur(mask_yellow, 5)\n",
    "    mask_blue = cv2.inRange(img_hsv, (90, 100, 100), (120, 255, 255))\n",
    "    mask_blue = cv2.medianBlur(mask_blue, 5)\n",
    "\n",
    "    im_yellow = cv2.bitwise_and(img, img, mask=mask_yellow)\n",
    "    yellow = count_circles(im_yellow)\n",
    "    \n",
    "    im_blue = cv2.bitwise_and(img, img, mask=mask_blue)\n",
    "    blue = count_circles(im_blue)\n",
    "\n",
    "    #cv2.imshow('mask yellow', mask_yellow)\n",
    "    #cv2.imshow('mask blue', mask_blue)\n",
    "    cv2.putText(img, f'y: {yellow} b: {blue}', (50, 50), cv2.FONT_HERSHEY_PLAIN, 5, (0,0,0), 2)\n",
    "    cv2.imshow('img', img)\n",
    "    cv2.waitKey(0)\n",
    "    cv2.destroyAllWindows()\n",
    "    return blue, yellow\n",
    "    "
   ]
  },
  {
   "cell_type": "code",
   "execution_count": 50,
   "id": "aa66ca05-2a04-49b8-a8be-d5cfbb2b8407",
   "metadata": {},
   "outputs": [
    {
     "name": "stdout",
     "output_type": "stream",
     "text": [
      "img 1 has 8 coins and 5 coins\n",
      "img 2 has 3 coins and 6 coins\n",
      "img 3 has 4 coins and 2 coins\n",
      "img 4 has 4 coins and 2 coins\n",
      "img 5 has 7 coins and 1 coins\n",
      "img 6 has 5 coins and 3 coins\n",
      "img 7 has 3 coins and 4 coins\n",
      "img 8 has 5 coins and 5 coins\n",
      "img 9 has 6 coins and 2 coins\n",
      "img 10 has 2 coins and 4 coins\n"
     ]
    }
   ],
   "source": [
    "for i in range(1, 11):\n",
    "    img = cv2.imread(f\"coin{i}.jpg\")\n",
    "    blue, yellow = count_coins(img)\n",
    "    print(f'img {i} has {blue} coins and {yellow} coins')"
   ]
  },
  {
   "cell_type": "code",
   "execution_count": 3,
   "id": "7efa8e18-2e5e-4b68-a27a-99659abea75e",
   "metadata": {},
   "outputs": [],
   "source": [
    "def on_mouse_click (event, x, y, flags, frame):\n",
    "    if event == cv2.EVENT_LBUTTONUP:\n",
    "        print(frame[y, x].tolist())\n"
   ]
  },
  {
   "cell_type": "code",
   "execution_count": 40,
   "id": "b93001dc-57f3-4db0-bf66-40e9fcc987c6",
   "metadata": {},
   "outputs": [
    {
     "name": "stdout",
     "output_type": "stream",
     "text": [
      "4\n",
      "[30, 6, 91]\n",
      "[19, 22, 93]\n",
      "[91, 235, 141]\n"
     ]
    }
   ],
   "source": [
    "img = cv2.imread(\"coin3.jpg\")\n",
    "img = rescale_image(img, 640)\n",
    "\n",
    "# remove light?\n",
    "\"\"\"\n",
    "gray = cv2.cvtColor(img, cv2.COLOR_BGR2GRAY)\n",
    "th = cv2.adaptiveThreshold(gray, 255, cv2.ADAPTIVE_THRESH_MEAN_C, cv2.THRESH_BINARY, 11, 2)\n",
    "img = cv2.bitwise_and(img, img, mask=th)\n",
    "\"\"\"\n",
    "\n",
    "img_hsv = cv2.cvtColor(img, cv2.COLOR_BGR2HSV)\n",
    "#kernel = np.ones((5, 5), np.uint8) \n",
    "\n",
    "mask_yellow = cv2.inRange(img_hsv, (20, 100, 0), (50, 255, 255))\n",
    "mask_yellow = cv2.medianBlur(mask_yellow, 5)\n",
    "\n",
    "mask_blue = cv2.inRange(img_hsv, (90, 100, 100), (120, 255, 255))\n",
    "mask_blue = cv2.medianBlur(mask_blue, 5)\n",
    "#mask_blue = cv2.erode(mask_blue, kernel)\n",
    "#mask_blue = cv2.dilate(mask_blue, kernel)\n",
    "\n",
    "\"\"\"\n",
    "contours_yellow, hierarchy_yellow = cv2.findContours(mask_yellow, cv2.RETR_TREE, cv2.CHAIN_APPROX_NONE)\n",
    "contours_blue, hierarchy_blue = cv2.findContours(mask_blue, cv2.RETR_TREE, cv2.CHAIN_APPROX_NONE)\n",
    "\n",
    "yellow = len(contours_yellow)\n",
    "blue = len(contours_blue)\n",
    "\"\"\"\n",
    "\n",
    "# if use hough circle, we just win :D\n",
    "t = cv2.bitwise_and(img, img, mask=mask_blue)\n",
    "t = cv2.cvtColor(t, cv2.COLOR_BGR2GRAY)\n",
    "circles = cv2.HoughCircles(t ,cv2.HOUGH_GRADIENT, 1, 50, param1=100,param2=20,minRadius=10, maxRadius=50)\n",
    "if circles is not None:\n",
    "    circles = np.uint16(np.around(circles))\n",
    "    print(len(circles[0,:]))\n",
    "    for i in circles[0,:]:\n",
    "        # draw the outer circle\n",
    "        cv2.circle(img,(i[0],i[1]),i[2],(0,255,0),2)\n",
    "        # draw the center of the circle\n",
    "        #cv.circle(im,(i[0],i[1]),2,(0,0,255),3)\n",
    "\n",
    "#cv2.imshow('img', img)\n",
    "#cv2.imshow('t', t)\n",
    "\n",
    "#print(blue)\n",
    "#cv2.imshow('mask yellow', mask_yellow)\n",
    "#cv2.drawContours(img_hsv, contours_blue, -1, (0,255,0), 3)\n",
    "cv2.imshow('mask blue', mask_blue)\n",
    "\n",
    "cv2.imshow('hue', img_hsv)\n",
    "cv2.setMouseCallback('hue', on_mouse_click, img_hsv)\n",
    "cv2.waitKey(0)\n",
    "cv2.destroyAllWindows()"
   ]
  },
  {
   "cell_type": "code",
   "execution_count": null,
   "id": "82858fee-2187-45c2-a716-668bc9bd5126",
   "metadata": {},
   "outputs": [],
   "source": []
  }
 ],
 "metadata": {
  "kernelspec": {
   "display_name": "Python 3 (ipykernel)",
   "language": "python",
   "name": "python3"
  },
  "language_info": {
   "codemirror_mode": {
    "name": "ipython",
    "version": 3
   },
   "file_extension": ".py",
   "mimetype": "text/x-python",
   "name": "python",
   "nbconvert_exporter": "python",
   "pygments_lexer": "ipython3",
   "version": "3.10.8"
  }
 },
 "nbformat": 4,
 "nbformat_minor": 5
}
