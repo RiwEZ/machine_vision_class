{
 "cells": [
  {
   "cell_type": "code",
   "execution_count": 5,
   "id": "31b0057b-13ce-4e60-843d-141b6cd6d010",
   "metadata": {},
   "outputs": [],
   "source": [
    "import cv2\n",
    "import numpy as np\n",
    "\n",
    "def rescale_image(image, target_width):\n",
    "    height, width = image.shape[:2]\n",
    "    scale_factor = target_width / width\n",
    "    new_width = int(width * scale_factor)\n",
    "    new_height = int(height * scale_factor)\n",
    "    resized_image = cv2.resize(image, (new_width, new_height))\n",
    "    return resized_image\n",
    "\n",
    "def convert_hue(hue):\n",
    "    return cv2.applyColorMap((hue*(255/179)).astype('uint8'), cv2.COLORMAP_HSV)\n",
    "\n",
    "def count_circles(im):\n",
    "    im = cv2.cvtColor(im, cv2.COLOR_BGR2GRAY)\n",
    "    # custom params\n",
    "    circles = cv2.HoughCircles(im ,cv2.HOUGH_GRADIENT, 1, 50, param1=100,param2=20,minRadius=10, maxRadius=50)\n",
    "    result = 0\n",
    "    if circles is not None:\n",
    "        circles = np.uint16(np.around(circles))\n",
    "        result = len(circles[0,:])\n",
    "\n",
    "    return result\n",
    "    \n",
    "def count_coins(file):\n",
    "    img = cv2.imread(file)\n",
    "    img = rescale_image(img, 640)\n",
    "    img_hsv = cv2.cvtColor(img, cv2.COLOR_BGR2HSV)\n",
    "    \n",
    "    mask_yellow = cv2.inRange(img_hsv, (20, 100, 0), (50, 255, 255))\n",
    "    mask_yellow = cv2.medianBlur(mask_yellow, 5)\n",
    "    mask_blue = cv2.inRange(img_hsv, (90, 100, 100), (120, 255, 255))\n",
    "    mask_blue = cv2.medianBlur(mask_blue, 5)\n",
    "\n",
    "    im_yellow = cv2.bitwise_and(img, img, mask=mask_yellow)\n",
    "    yellow = count_circles(im_yellow)\n",
    "    \n",
    "    im_blue = cv2.bitwise_and(img, img, mask=mask_blue)\n",
    "    blue = count_circles(im_blue)\n",
    "\n",
    "    cv2.putText(img, f'y: {yellow} b: {blue}', (50, 50), cv2.FONT_HERSHEY_PLAIN, 5, (0,0,0), 2)\n",
    "    cv2.imshow('img', img)\n",
    "    cv2.waitKey(0)\n",
    "    cv2.destroyAllWindows()\n",
    "    return yellow, blue\n",
    "    "
   ]
  },
  {
   "cell_type": "code",
   "execution_count": 6,
   "id": "aa66ca05-2a04-49b8-a8be-d5cfbb2b8407",
   "metadata": {
    "scrolled": true
   },
   "outputs": [
    {
     "name": "stdout",
     "output_type": "stream",
     "text": [
      "1 : (5, 8)\n",
      "2 : (6, 3)\n",
      "3 : (2, 4)\n",
      "4 : (2, 4)\n",
      "5 : (1, 7)\n",
      "6 : (3, 5)\n",
      "7 : (4, 3)\n",
      "8 : (5, 5)\n",
      "9 : (2, 6)\n",
      "10 : (4, 2)\n"
     ]
    }
   ],
   "source": [
    "for i in range(1, 11):\n",
    "    print(i, \":\", count_coins(f\"coin{i}.jpg\"))"
   ]
  },
  {
   "cell_type": "code",
   "execution_count": null,
   "id": "82858fee-2187-45c2-a716-668bc9bd5126",
   "metadata": {},
   "outputs": [],
   "source": []
  }
 ],
 "metadata": {
  "kernelspec": {
   "display_name": "Python 3 (ipykernel)",
   "language": "python",
   "name": "python3"
  },
  "language_info": {
   "codemirror_mode": {
    "name": "ipython",
    "version": 3
   },
   "file_extension": ".py",
   "mimetype": "text/x-python",
   "name": "python",
   "nbconvert_exporter": "python",
   "pygments_lexer": "ipython3",
   "version": "3.10.8"
  }
 },
 "nbformat": 4,
 "nbformat_minor": 5
}
