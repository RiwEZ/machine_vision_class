import math

def entropy(ls):
    total = sum(ls)
    return -sum([x/total * math.log(x/total, 2) for x in ls])




parent = entropy([7, 7, 7])
parent


def info_gain(c1, c2):
    if sum(c1) + sum(c2) != 21:
        raise Exception("something wrong")
    
    avg = sum(c1)/21 * entropy(c1) + sum(c2)/21 * entropy(c2)
    return parent - avg
    
# x1 > 1 
info_gain([2, 1], [5, 6, 7])


# x1 > 2
info_gain([5, 2], [2, 5, 7])


# x1 > 3
info_gain([5, 4], [2, 3, 7])


# x1 > 4
info_gain([6, 4, 1], [1, 3, 6])


# x1 > 5
info_gain([7, 6, 5], [1, 2])


# x2 > 1
info_gain([1], [6, 7, 7])


# x2 > 2 
info_gain([5], [2, 7, 7])


# x2 > 3
info_gain([6, 2, 1], [1, 5, 6])


# x2 > 4
info_gain([7, 5, 1], [2, 6])


# x2 > 5
info_gain([1, 2], [6, 5, 7])


1/4 * 2/4 * 2/4 * 4/15


3/5 * 0/5 * 2/5 * 5/15


5/6 * 1/6 * 1/6 * 6/15



