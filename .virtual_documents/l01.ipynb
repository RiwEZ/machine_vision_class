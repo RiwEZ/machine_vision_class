%pip freeze


%pip install opencv-contrib-python


import numpy as np
import cv2


print(cv2.__version__)
cap = cv2.VideoCapture(0)
ret,im = cap.read()
cv2.imshow('camera',im)
cv2.waitKey()


cap = cv2.VideoCapture(0)
while(True):
    ret,im = cap.read()
    cv2.imshow('camera',im) 
    if cv2.waitKey(1) & 0xFF == ord('q'):
        break

cap.release()
cv2.destroyAllWindows()


cap = cv2.VideoCapture(0)
while(True):
    ret,im = cap.read()

    TARGET_SIZE = (360,240)
    im_resized = cv2.resize(im,TARGET_SIZE)
    #print(im_resized.shape)

    im_flipped = cv2.flip(im_resized, 1)

    ############ Blurred ############################
    #L = 10
    #kernel = np.ones((L, L), np.float32) / L / L
    #im_blurred = cv2.filter2D(im_flipped, -1, kernel)
    ##################################################
    
    ############ Median Filter #######################
    L = 25
    im_median = cv2.medianBlur(im_flipped, L)
    ##################################################

    #cv2.imshow('original', im)
    cv2.imshow('original', im_median)
    #cv2.imshow('modified', im_resized) # Change variable name for displaying another images 

    if cv2.waitKey(1) & 0xFF == ord('q'):
        break

cap.release()
cv2.destroyAllWindows()


cap = cv2.VideoCapture(0)

ret,im = cap.read()
im_resized = cv2.resize(im, (640,360))
im_flipped = cv2.flip(im_resized, 1)
im0 = im1 = im2 = im3 = im_flipped

while(True):
    im0 = im1
    im1 = im2
    im2 = im3
    im3 = im_flipped
    
    ret,im = cap.read()
    im_resized = cv2.resize(im, (640,360))
    im_flipped = cv2.flip(im_resized, 1)

    #im_out = (0.2*im0 + 0.2*im1 + 0.2*im2 + 0.2*im3 + 0.2*im_flipped).astype(np.uint8)
    im_out = ((im0 + im1 + im2 + im3 + im_flipped)/5).astype(np.uint8)
    cv2.imshow('camera',im_out)

    if cv2.waitKey(1) & 0xFF == ord('q'):
        break

cap.release()
cv2.destroyAllWindows()


cap = cv2.VideoCapture(0)

L = 10

im_list = []
while(True):
    ret,im = cap.read()
    im_resized = cv2.resize(im, (640,360))
    im_flipped = cv2.flip(im_resized, 1).astype('float')

    if len(im_list) == L:
        im_list = im_list[1:]

    im_list.append(im_flipped)
    im_out = sum(im_list)/len(im_list) * 10.0
    im_out[im_out > 255] = 255
    cv2.imshow('camera',im_out.astype(np.uint8))

    if cv2.waitKey(1) & 0xFF == ord('q'):
        break

cap.release()
cv2.destroyAllWindows()


cap = cv2.VideoCapture(0)

TARGET_SIZE = (640,360)

while(True):
    ret,im = cap.read()
    im_resized = cv2.resize(im, TARGET_SIZE)
    im_flipped = cv2.flip(im_resized, 1)

    im_gray = cv2.cvtColor(im_flipped,cv2.COLOR_BGR2GRAY)
    im_hsv = cv2.cvtColor(im_flipped, cv2.COLOR_BGR2HSV)
    hue = im_hsv[:,:,0]
    # 0 - 179 deg => 0 - 359 deg
    hue = cv2.applyColorMap((hue*(255/179)).astype('uint8'),cv2.COLORMAP_HSV)
    sat = im_hsv[:,:,1]
    val = im_hsv[:,:,2]

    cv2.imshow('Gray', im_gray)
    cv2.moveWindow('Gray',0,0)
    cv2.imshow('Hue', hue)
    cv2.moveWindow('Hue',TARGET_SIZE[0],0)
    cv2.imshow('Sat', sat)
    cv2.moveWindow('Sat',0,TARGET_SIZE[1])
    cv2.imshow('Val', val)
    cv2.moveWindow('Val',TARGET_SIZE[0],TARGET_SIZE[1])

    if cv2.waitKey(1) & 0xFF == ord('q'):
        break

cap.release()
cv2.destroyAllWindows()


cap = cv2.VideoCapture(0)

TARGET_SIZE = (640,360)

while(True):
    ret,im = cap.read()
    im_resized = cv2.resize(im, TARGET_SIZE)
    im_flipped = cv2.flip(im_resized, 1)    

    # b g r
    #mask = cv2.inRange(im_flipped,(0,0,90),(50,50,255))
    #mask = cv2.inRange(im_flipped,(0,50,0),(25,255,25))
    #mask = cv2.inRange(im_flipped,(90,0,0),(255,50,50))
    cv2.imshow('mask', mask)
    cv2.moveWindow('mask',TARGET_SIZE[0],0)

    #print(np.sum(mask/255))

    if(np.sum(mask/255) > 10000):
        cv2.putText(im_flipped,'Coke',(50,100),cv2.FONT_HERSHEY_PLAIN,5,(255,255,255))

    cv2.imshow('camera', im_flipped)
    cv2.moveWindow('camera',0,0)

    if cv2.waitKey(1) & 0xFF == ord('q'):
        break

cap.release()
cv2.destroyAllWindows()


TARGET_SIZE = (640,360)

cap = cv2.VideoCapture(0)

while(True):
    ret,im = cap.read()
    im_resized = cv2.resize(im, TARGET_SIZE)
    im_flipped = cv2.flip(im_resized, 1)

    mask = cv2.inRange(im_flipped,(0,70,90),(50,255,50))
    cv2.imshow('mask', mask)
    cv2.moveWindow('mask',TARGET_SIZE[0],0)

    #############################################
    h, w = im_flipped.shape[:2]
    im_cropped = im_flipped[(int(h/2)-8):(int(h/2)+9),
                           (int(w/2)-8):(int(w/2)+9),
                           :]
    cv2.imshow('cropped', cv2.resize(im_cropped, (128,128)))
    cv2.moveWindow('cropped',0,TARGET_SIZE[1])
    b = int(np.mean(im_cropped[:,:,0]))
    g = int(np.mean(im_cropped[:,:,1]))
    r = int(np.mean(im_cropped[:,:,2]))

    cv2.rectangle(im_flipped,
                  (int(w/2)-8,int(h/2)-8),
                  (int(w/2)+8,int(h/2)+8),
                  (255,255,255))
    cv2.putText(im_flipped, str(b), (20, 30),
                cv2.FONT_HERSHEY_PLAIN, 2, (255, 0, 0))
    cv2.putText(im_flipped, str(g), (90, 30),
                cv2.FONT_HERSHEY_PLAIN, 2, (0, 255, 0))
    cv2.putText(im_flipped, str(r), (160, 30),
                cv2.FONT_HERSHEY_PLAIN, 2, (0, 0, 255))
    #############################################

    #print(np.sum(mask/255)/(h*w))

    if(np.sum(mask/255) > 0.01*h*w):
        cv2.putText(im_flipped,'Coke',(50,100),cv2.FONT_HERSHEY_PLAIN,5,(255,255,255))

    cv2.imshow('camera', im_flipped)
    cv2.moveWindow('camera',0,0)

    if cv2.waitKey(1) & 0xFF == ord('q'):
        break

cap.release()
cv2.destroyAllWindows()


cap = cv2.VideoCapture(0)

TARGET_SIZE = (640,360)

while(True):
    ret,im = cap.read()
    im_resized = cv2.resize(im, TARGET_SIZE)
    im_flipped = cv2.flip(im_resized, 1)

    im_hsv = cv2.cvtColor(im_flipped, cv2.COLOR_BGR2HSV)
    hue = im_hsv[:,:,0]
    # 0 - 179 deg => 0 - 359 deg
    hue = cv2.applyColorMap((hue*(255/179)).astype('uint8'),cv2.COLORMAP_HSV)
    sat = im_hsv[:,:,1]
    val = im_hsv[:,:,2]

    h, w = im_flipped.shape[:2]
    im_cropped = im_flipped[(int(h/2)-8):(int(h/2)+9),
                           (int(w/2)-8):(int(w/2)+9),
                           :]
    im_hsv2 = cv2.cvtColor(im_cropped, cv2.COLOR_BGR2HSV)
    cv2.rectangle(im_flipped,
                  (int(w/2)-8,int(h/2)-8),
                  (int(w/2)+8,int(h/2)+8),
                  (255,255,255))
    hue = np.median(im_hsv2[:,:,0])
    sat = np.median(im_hsv2[:, :, 1])
    val = np.median(im_hsv2[:, :, 2])
    
    cv2.putText(im_flipped, str(hue), (20, 30),
                cv2.FONT_HERSHEY_PLAIN, 2, (255, 0, 0))
    cv2.putText(im_flipped, str(sat), (100, 30),
                cv2.FONT_HERSHEY_PLAIN, 2, (0, 255, 0))
    cv2.putText(im_flipped, str(val), (180, 30),
                cv2.FONT_HERSHEY_PLAIN, 2, (0, 255, 0))
    cv2.imshow('cropped', cv2.resize(im_cropped, (128,128)))
    cv2.moveWindow('cropped',0,TARGET_SIZE[1])

    #print(im_hsv.shape)
    mask_blue = cv2.inRange(im_hsv,(100, 100, 100),(120, 255, 255))
    mask_red= cv2.inRange(im_hsv,(0, 120, 150),(20, 255, 255))
    mask_green = cv2.inRange(im_hsv,(60, 70, 70),(95, 255, 255))
    if(np.sum(mask_blue/255) > 8000):
        cv2.putText(im_flipped,'Pepsi',(50,100),cv2.FONT_HERSHEY_PLAIN,5,(255,255,255))
    if(np.sum(mask_red/255) > 8000):
        cv2.putText(im_flipped,'Coke',(50,100),cv2.FONT_HERSHEY_PLAIN,5,(255,255,255))
    if(np.sum(mask_green/255) > 7000):
        cv2.putText(im_flipped,'Sprite',(50,100),cv2.FONT_HERSHEY_PLAIN,5,(255,255,255))
    
    cv2.imshow('b', mask_blue)
    cv2.imshow('r', mask_red)
    cv2.imshow('g', mask_green)
    
    cv2.imshow('im', im_flipped)
    cv2.moveWindow('im',0,0)

    if cv2.waitKey(1) & 0xFF == ord('q'):
        break

cap.release()
cv2.destroyAllWindows()


cap = cv2.VideoCapture(0)

TARGET_SIZE = (640,360)

while(True):
    ret,im = cap.read()
    im_resized = cv2.resize(im, TARGET_SIZE)
    im_flipped = cv2.flip(im_resized, 1)    

    # b g r
    #mask = cv2.inRange(im_flipped,(0,0,80),(50,50,255))
    #mask = cv2.inRange(im_flipped,(0,50,0),(25,255,25))
    mask = cv2.inRange(im_flipped,(70,0,0),(255,50,50))
    cv2.imshow('mask', mask)
    cv2.moveWindow('mask',TARGET_SIZE[0],0)

    #print(np.sum(mask/255))

    if(np.sum(mask/255) > 10000):
        cv2.putText(im_flipped,'Coke',(50,100),cv2.FONT_HERSHEY_PLAIN,5,(255,255,255))

    cv2.imshow('camera', im_flipped)
    cv2.moveWindow('camera',0,0)

    if cv2.waitKey(1) & 0xFF == ord('q'):
        break

cap.release()
cv2.destroyAllWindows()



