{
 "cells": [
  {
   "cell_type": "code",
   "execution_count": 35,
   "id": "477f827e-df99-4a1d-a562-91505742dad2",
   "metadata": {},
   "outputs": [],
   "source": [
    "import cv2\n",
    "import numpy as np"
   ]
  },
  {
   "cell_type": "code",
   "execution_count": 12,
   "id": "f2fbecec-9045-4551-884c-02b3503210cc",
   "metadata": {},
   "outputs": [],
   "source": [
    "def on_mouse_click(event, x, y, flags, frame):\n",
    "    if event == cv2.EVENT_LBUTTONUP:\n",
    "        print(frame[y, x].tolist())"
   ]
  },
  {
   "cell_type": "code",
   "execution_count": 58,
   "id": "f7cd35fe-d7bc-4ce2-8e86-a70d9e155f25",
   "metadata": {},
   "outputs": [],
   "source": [
    "cap = cv2.VideoCapture(\"Squat1_8_9.avi\")\n",
    "# cap = cv2.VideoCapture('Squat2_16_17.avi')\n",
    "# cap = cv2.VideoCapture('Squat3_11_9_10.avi')\n",
    "# haveFrame, bg = cap.read()\n",
    "\n",
    "i = 0\n",
    "while cap.isOpened():\n",
    "    haveFrame, im = cap.read()\n",
    "\n",
    "    if i >= 30 or not haveFrame:\n",
    "        bg = im\n",
    "        break\n",
    "    i += 1\n",
    "\n",
    "while cap.isOpened():\n",
    "    haveFrame, im = cap.read()\n",
    "    if (not haveFrame) or (cv2.waitKey(10) & 0xFF == ord(\"q\")):\n",
    "        break\n",
    "\n",
    "    diffc = cv2.absdiff(im, bg)\n",
    "    diffg = cv2.cvtColor(diffc, cv2.COLOR_BGR2GRAY)\n",
    "    bwmask = cv2.inRange(diffg, 35, 255)\n",
    "    bwmask_median = cv2.medianBlur(bwmask, 11)\n",
    "\n",
    "    kernel = np.ones((7, 7), np.uint8)\n",
    "    bwmask_close = cv2.morphologyEx(bwmask_median, cv2.MORPH_CLOSE, kernel)\n",
    "\n",
    "    contours, hierarchy = cv2.findContours(\n",
    "        bwmask_close, cv2.RETR_TREE, cv2.CHAIN_APPROX_NONE\n",
    "    )\n",
    "\n",
    "    im_out_contour = im.copy()\n",
    "    cv2.drawContours(im_out_contour, contours, -1, (0, 255, 0), 1)\n",
    "\n",
    "    im_out_boundingbox = im.copy()\n",
    "    for cnt in contours:\n",
    "        x, y, w, h = cv2.boundingRect(cnt)\n",
    "        if (\n",
    "            w * h > diffg.shape[0] * diffg.shape[1] * 0.015\n",
    "            and w * h < diffg.shape[0] * diffg.shape[1] * 0.2\n",
    "            and x > 2\n",
    "            and y > 2\n",
    "            and x + w < diffg.shape[1] - 3\n",
    "            and y + h < diffg.shape[0] - 3\n",
    "            and h / w < 10\n",
    "        ):\n",
    "            cv2.rectangle(im_out_boundingbox, (x, y), (x + w, y + h), (0, 0, 255), 2)\n",
    "            # all_boundingboxes.append([t, i , x, y, w, h])\n",
    "            # i = i+1\n",
    "\n",
    "    cv2.imshow(\"m\", bwmask_close)\n",
    "    cv2.imshow(\"contour\", im_out_contour)\n",
    "    cv2.imshow(\"bound box\", im_out_boundingbox)\n",
    "\n",
    "cap.release()\n",
    "cv2.destroyAllWindows()"
   ]
  },
  {
   "cell_type": "code",
   "execution_count": null,
   "id": "094197f7-502b-495e-ac33-c1ed6698a193",
   "metadata": {},
   "outputs": [],
   "source": []
  }
 ],
 "metadata": {
  "kernelspec": {
   "display_name": "Python 3 (ipykernel)",
   "language": "python",
   "name": "python3"
  },
  "language_info": {
   "codemirror_mode": {
    "name": "ipython",
    "version": 3
   },
   "file_extension": ".py",
   "mimetype": "text/x-python",
   "name": "python",
   "nbconvert_exporter": "python",
   "pygments_lexer": "ipython3",
   "version": "3.10.8"
  }
 },
 "nbformat": 4,
 "nbformat_minor": 5
}
